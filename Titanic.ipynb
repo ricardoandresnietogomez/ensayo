{
  "nbformat": 4,
  "nbformat_minor": 0,
  "metadata": {
    "colab": {
      "name": "Titanic.ipynb",
      "provenance": [],
      "toc_visible": true,
      "authorship_tag": "ABX9TyMEYrlCPgzjsCziy2jxHx7g",
      "include_colab_link": true
    },
    "kernelspec": {
      "name": "python3",
      "display_name": "Python 3"
    }
  },
  "cells": [
    {
      "cell_type": "markdown",
      "metadata": {
        "id": "view-in-github",
        "colab_type": "text"
      },
      "source": [
        "<a href=\"https://colab.research.google.com/github/ricardoandresnietogomez/ensayo/blob/circleci-project-setup/Titanic.ipynb\" target=\"_parent\"><img src=\"https://colab.research.google.com/assets/colab-badge.svg\" alt=\"Open In Colab\"/></a>"
      ]
    },
    {
      "cell_type": "code",
      "metadata": {
        "id": "3XYCzXBZ34rK",
        "colab_type": "code",
        "colab": {
          "base_uri": "https://localhost:8080/",
          "height": 235
        },
        "outputId": "81d85efc-ae6a-4edf-b162-bb1ab32b6784"
      },
      "source": [
        "import pandas\n",
        "import matplotlib\n",
        "from matplotlib import pyplot\n",
        "\n",
        "data=pandas.read_csv(\"/content/Titanic.csv\", index_col=\"PassengerId\")#cargo toda la data\n",
        "#data.tail() para ver los utimos valores de la tabla\n",
        "data=pandas.read_csv(\"/content/Titanic.csv\", index_col=\"PassengerId\",usecols=[\"PassengerId\",\"Survived\",\"Pclass\",\"Name\",\"Sex\",\"Age\",\"Fare\"])\n",
        "data.columns=[\"sobrevivo\",\"clase\",\"Nombre\",\"sexo\",\"edad\",\"tarifa\"]# con este comando cambio los datos de los encabezados\n",
        "data.head()\n",
        "#data.shape para saber cuantas filas y columnas tiene la data\n",
        "#some= {\"Survived\":1,\"Pclass\":1,\"Name\":\"Ricardo Andres Nieto\"}# si quiero ingresar datos a la tabla\n",
        "#data=data.append(some, ignore_index=True)para ingresar los datos de la linea anterios\n",
        "#data.tail() para ver los utimos valores de la tabla"
      ],
      "execution_count": 1,
      "outputs": [
        {
          "output_type": "execute_result",
          "data": {
            "text/html": [
              "<div>\n",
              "<style scoped>\n",
              "    .dataframe tbody tr th:only-of-type {\n",
              "        vertical-align: middle;\n",
              "    }\n",
              "\n",
              "    .dataframe tbody tr th {\n",
              "        vertical-align: top;\n",
              "    }\n",
              "\n",
              "    .dataframe thead th {\n",
              "        text-align: right;\n",
              "    }\n",
              "</style>\n",
              "<table border=\"1\" class=\"dataframe\">\n",
              "  <thead>\n",
              "    <tr style=\"text-align: right;\">\n",
              "      <th></th>\n",
              "      <th>sobrevivo</th>\n",
              "      <th>clase</th>\n",
              "      <th>Nombre</th>\n",
              "      <th>sexo</th>\n",
              "      <th>edad</th>\n",
              "      <th>tarifa</th>\n",
              "    </tr>\n",
              "    <tr>\n",
              "      <th>PassengerId</th>\n",
              "      <th></th>\n",
              "      <th></th>\n",
              "      <th></th>\n",
              "      <th></th>\n",
              "      <th></th>\n",
              "      <th></th>\n",
              "    </tr>\n",
              "  </thead>\n",
              "  <tbody>\n",
              "    <tr>\n",
              "      <th>1</th>\n",
              "      <td>0</td>\n",
              "      <td>3</td>\n",
              "      <td>Braund, Mr. Owen Harris</td>\n",
              "      <td>male</td>\n",
              "      <td>22.0</td>\n",
              "      <td>7.2500</td>\n",
              "    </tr>\n",
              "    <tr>\n",
              "      <th>2</th>\n",
              "      <td>1</td>\n",
              "      <td>1</td>\n",
              "      <td>Cumings, Mrs. John Bradley (Florence Briggs Th...</td>\n",
              "      <td>female</td>\n",
              "      <td>38.0</td>\n",
              "      <td>71.2833</td>\n",
              "    </tr>\n",
              "    <tr>\n",
              "      <th>3</th>\n",
              "      <td>1</td>\n",
              "      <td>3</td>\n",
              "      <td>Heikkinen, Miss. Laina</td>\n",
              "      <td>female</td>\n",
              "      <td>26.0</td>\n",
              "      <td>7.9250</td>\n",
              "    </tr>\n",
              "    <tr>\n",
              "      <th>4</th>\n",
              "      <td>1</td>\n",
              "      <td>1</td>\n",
              "      <td>Futrelle, Mrs. Jacques Heath (Lily May Peel)</td>\n",
              "      <td>female</td>\n",
              "      <td>35.0</td>\n",
              "      <td>53.1000</td>\n",
              "    </tr>\n",
              "    <tr>\n",
              "      <th>5</th>\n",
              "      <td>0</td>\n",
              "      <td>3</td>\n",
              "      <td>Allen, Mr. William Henry</td>\n",
              "      <td>male</td>\n",
              "      <td>35.0</td>\n",
              "      <td>8.0500</td>\n",
              "    </tr>\n",
              "  </tbody>\n",
              "</table>\n",
              "</div>"
            ],
            "text/plain": [
              "             sobrevivo  clase  ...  edad   tarifa\n",
              "PassengerId                    ...               \n",
              "1                    0      3  ...  22.0   7.2500\n",
              "2                    1      1  ...  38.0  71.2833\n",
              "3                    1      3  ...  26.0   7.9250\n",
              "4                    1      1  ...  35.0  53.1000\n",
              "5                    0      3  ...  35.0   8.0500\n",
              "\n",
              "[5 rows x 6 columns]"
            ]
          },
          "metadata": {
            "tags": []
          },
          "execution_count": 1
        }
      ]
    },
    {
      "cell_type": "markdown",
      "metadata": {
        "id": "l4jrEXAV6kB3",
        "colab_type": "text"
      },
      "source": [
        "1. Cuantos valores se tiene para cada columna, valores medios, mediana y cuartiles\n",
        "\n"
      ]
    },
    {
      "cell_type": "code",
      "metadata": {
        "id": "zELDsG5p6vPk",
        "colab_type": "code",
        "colab": {
          "base_uri": "https://localhost:8080/",
          "height": 297
        },
        "outputId": "826e3342-7df2-4b82-df6b-03406703c6ca"
      },
      "source": [
        "data.describe()"
      ],
      "execution_count": null,
      "outputs": [
        {
          "output_type": "execute_result",
          "data": {
            "text/html": [
              "<div>\n",
              "<style scoped>\n",
              "    .dataframe tbody tr th:only-of-type {\n",
              "        vertical-align: middle;\n",
              "    }\n",
              "\n",
              "    .dataframe tbody tr th {\n",
              "        vertical-align: top;\n",
              "    }\n",
              "\n",
              "    .dataframe thead th {\n",
              "        text-align: right;\n",
              "    }\n",
              "</style>\n",
              "<table border=\"1\" class=\"dataframe\">\n",
              "  <thead>\n",
              "    <tr style=\"text-align: right;\">\n",
              "      <th></th>\n",
              "      <th>sobrevivo</th>\n",
              "      <th>clase</th>\n",
              "      <th>edad</th>\n",
              "      <th>tarifa</th>\n",
              "    </tr>\n",
              "  </thead>\n",
              "  <tbody>\n",
              "    <tr>\n",
              "      <th>count</th>\n",
              "      <td>891.000000</td>\n",
              "      <td>891.000000</td>\n",
              "      <td>714.000000</td>\n",
              "      <td>891.000000</td>\n",
              "    </tr>\n",
              "    <tr>\n",
              "      <th>mean</th>\n",
              "      <td>0.383838</td>\n",
              "      <td>2.308642</td>\n",
              "      <td>29.699118</td>\n",
              "      <td>32.204208</td>\n",
              "    </tr>\n",
              "    <tr>\n",
              "      <th>std</th>\n",
              "      <td>0.486592</td>\n",
              "      <td>0.836071</td>\n",
              "      <td>14.526497</td>\n",
              "      <td>49.693429</td>\n",
              "    </tr>\n",
              "    <tr>\n",
              "      <th>min</th>\n",
              "      <td>0.000000</td>\n",
              "      <td>1.000000</td>\n",
              "      <td>0.420000</td>\n",
              "      <td>0.000000</td>\n",
              "    </tr>\n",
              "    <tr>\n",
              "      <th>25%</th>\n",
              "      <td>0.000000</td>\n",
              "      <td>2.000000</td>\n",
              "      <td>20.125000</td>\n",
              "      <td>7.910400</td>\n",
              "    </tr>\n",
              "    <tr>\n",
              "      <th>50%</th>\n",
              "      <td>0.000000</td>\n",
              "      <td>3.000000</td>\n",
              "      <td>28.000000</td>\n",
              "      <td>14.454200</td>\n",
              "    </tr>\n",
              "    <tr>\n",
              "      <th>75%</th>\n",
              "      <td>1.000000</td>\n",
              "      <td>3.000000</td>\n",
              "      <td>38.000000</td>\n",
              "      <td>31.000000</td>\n",
              "    </tr>\n",
              "    <tr>\n",
              "      <th>max</th>\n",
              "      <td>1.000000</td>\n",
              "      <td>3.000000</td>\n",
              "      <td>80.000000</td>\n",
              "      <td>512.329200</td>\n",
              "    </tr>\n",
              "  </tbody>\n",
              "</table>\n",
              "</div>"
            ],
            "text/plain": [
              "        sobrevivo       clase        edad      tarifa\n",
              "count  891.000000  891.000000  714.000000  891.000000\n",
              "mean     0.383838    2.308642   29.699118   32.204208\n",
              "std      0.486592    0.836071   14.526497   49.693429\n",
              "min      0.000000    1.000000    0.420000    0.000000\n",
              "25%      0.000000    2.000000   20.125000    7.910400\n",
              "50%      0.000000    3.000000   28.000000   14.454200\n",
              "75%      1.000000    3.000000   38.000000   31.000000\n",
              "max      1.000000    3.000000   80.000000  512.329200"
            ]
          },
          "metadata": {
            "tags": []
          },
          "execution_count": 23
        }
      ]
    },
    {
      "cell_type": "markdown",
      "metadata": {
        "id": "lVe5rklX_UJE",
        "colab_type": "text"
      },
      "source": [
        "imputar datos ya que al hacer la cuenta de las edades se puede ver que son 714 personas con edad el resto no tiene valor "
      ]
    },
    {
      "cell_type": "code",
      "metadata": {
        "id": "Qlvw9X90-iyl",
        "colab_type": "code",
        "colab": {
          "base_uri": "https://localhost:8080/",
          "height": 238
        },
        "outputId": "e583b7bc-8e54-43ca-ee71-8a1ce40d9ccc"
      },
      "source": [
        "data[\"edad\"].fillna(0)"
      ],
      "execution_count": null,
      "outputs": [
        {
          "output_type": "execute_result",
          "data": {
            "text/plain": [
              "PassengerId\n",
              "1      22.0\n",
              "2      38.0\n",
              "3      26.0\n",
              "4      35.0\n",
              "5      35.0\n",
              "       ... \n",
              "887    27.0\n",
              "888    19.0\n",
              "889     0.0\n",
              "890    26.0\n",
              "891    32.0\n",
              "Name: edad, Length: 891, dtype: float64"
            ]
          },
          "metadata": {
            "tags": []
          },
          "execution_count": 24
        }
      ]
    },
    {
      "cell_type": "markdown",
      "metadata": {
        "id": "0Xvmh_9L_uPP",
        "colab_type": "text"
      },
      "source": [
        "nos devolvio otra columna independiente, entonces hay que hacer asignacion para que la reemplace"
      ]
    },
    {
      "cell_type": "code",
      "metadata": {
        "id": "TYxRp-t3_5x2",
        "colab_type": "code",
        "colab": {
          "base_uri": "https://localhost:8080/",
          "height": 297
        },
        "outputId": "ec55a051-a589-4a68-bed8-df96252da59c"
      },
      "source": [
        "mean_age=data[\"edad\"].mean()\n",
        "data[\"edad\"]=data[\"edad\"].fillna(mean_age)\n",
        "data.describe()"
      ],
      "execution_count": null,
      "outputs": [
        {
          "output_type": "execute_result",
          "data": {
            "text/html": [
              "<div>\n",
              "<style scoped>\n",
              "    .dataframe tbody tr th:only-of-type {\n",
              "        vertical-align: middle;\n",
              "    }\n",
              "\n",
              "    .dataframe tbody tr th {\n",
              "        vertical-align: top;\n",
              "    }\n",
              "\n",
              "    .dataframe thead th {\n",
              "        text-align: right;\n",
              "    }\n",
              "</style>\n",
              "<table border=\"1\" class=\"dataframe\">\n",
              "  <thead>\n",
              "    <tr style=\"text-align: right;\">\n",
              "      <th></th>\n",
              "      <th>sobrevivo</th>\n",
              "      <th>clase</th>\n",
              "      <th>edad</th>\n",
              "      <th>tarifa</th>\n",
              "    </tr>\n",
              "  </thead>\n",
              "  <tbody>\n",
              "    <tr>\n",
              "      <th>count</th>\n",
              "      <td>891.000000</td>\n",
              "      <td>891.000000</td>\n",
              "      <td>891.000000</td>\n",
              "      <td>891.000000</td>\n",
              "    </tr>\n",
              "    <tr>\n",
              "      <th>mean</th>\n",
              "      <td>0.383838</td>\n",
              "      <td>2.308642</td>\n",
              "      <td>29.699118</td>\n",
              "      <td>32.204208</td>\n",
              "    </tr>\n",
              "    <tr>\n",
              "      <th>std</th>\n",
              "      <td>0.486592</td>\n",
              "      <td>0.836071</td>\n",
              "      <td>13.002015</td>\n",
              "      <td>49.693429</td>\n",
              "    </tr>\n",
              "    <tr>\n",
              "      <th>min</th>\n",
              "      <td>0.000000</td>\n",
              "      <td>1.000000</td>\n",
              "      <td>0.420000</td>\n",
              "      <td>0.000000</td>\n",
              "    </tr>\n",
              "    <tr>\n",
              "      <th>25%</th>\n",
              "      <td>0.000000</td>\n",
              "      <td>2.000000</td>\n",
              "      <td>22.000000</td>\n",
              "      <td>7.910400</td>\n",
              "    </tr>\n",
              "    <tr>\n",
              "      <th>50%</th>\n",
              "      <td>0.000000</td>\n",
              "      <td>3.000000</td>\n",
              "      <td>29.699118</td>\n",
              "      <td>14.454200</td>\n",
              "    </tr>\n",
              "    <tr>\n",
              "      <th>75%</th>\n",
              "      <td>1.000000</td>\n",
              "      <td>3.000000</td>\n",
              "      <td>35.000000</td>\n",
              "      <td>31.000000</td>\n",
              "    </tr>\n",
              "    <tr>\n",
              "      <th>max</th>\n",
              "      <td>1.000000</td>\n",
              "      <td>3.000000</td>\n",
              "      <td>80.000000</td>\n",
              "      <td>512.329200</td>\n",
              "    </tr>\n",
              "  </tbody>\n",
              "</table>\n",
              "</div>"
            ],
            "text/plain": [
              "        sobrevivo       clase        edad      tarifa\n",
              "count  891.000000  891.000000  891.000000  891.000000\n",
              "mean     0.383838    2.308642   29.699118   32.204208\n",
              "std      0.486592    0.836071   13.002015   49.693429\n",
              "min      0.000000    1.000000    0.420000    0.000000\n",
              "25%      0.000000    2.000000   22.000000    7.910400\n",
              "50%      0.000000    3.000000   29.699118   14.454200\n",
              "75%      1.000000    3.000000   35.000000   31.000000\n",
              "max      1.000000    3.000000   80.000000  512.329200"
            ]
          },
          "metadata": {
            "tags": []
          },
          "execution_count": 27
        }
      ]
    },
    {
      "cell_type": "markdown",
      "metadata": {
        "id": "bkbWU_k7BLCW",
        "colab_type": "text"
      },
      "source": [
        "2.cuantos hombres y mujeres hay en el dataset? se debe hacer una agrupacion de la columna con value_counts() y se dibuja en barras"
      ]
    },
    {
      "cell_type": "code",
      "metadata": {
        "id": "s4fhwjbEBQEP",
        "colab_type": "code",
        "colab": {
          "base_uri": "https://localhost:8080/",
          "height": 697
        },
        "outputId": "7bd31035-456e-403c-c972-411f0c9470fc"
      },
      "source": [
        "data[\"sexo\",\"clase\"].value_counts().plot.bar()# cuenta cuentas mujeres y hombres hay\n",
        "pyplot.ylabel(\"frecuency\")\n",
        "pyplot.grid()\n",
        "pyplot.show()"
      ],
      "execution_count": 2,
      "outputs": [
        {
          "output_type": "error",
          "ename": "KeyError",
          "evalue": "ignored",
          "traceback": [
            "\u001b[0;31m---------------------------------------------------------------------------\u001b[0m",
            "\u001b[0;31mKeyError\u001b[0m                                  Traceback (most recent call last)",
            "\u001b[0;32m/usr/local/lib/python3.6/dist-packages/pandas/core/indexes/base.py\u001b[0m in \u001b[0;36mget_loc\u001b[0;34m(self, key, method, tolerance)\u001b[0m\n\u001b[1;32m   2645\u001b[0m             \u001b[0;32mtry\u001b[0m\u001b[0;34m:\u001b[0m\u001b[0;34m\u001b[0m\u001b[0;34m\u001b[0m\u001b[0m\n\u001b[0;32m-> 2646\u001b[0;31m                 \u001b[0;32mreturn\u001b[0m \u001b[0mself\u001b[0m\u001b[0;34m.\u001b[0m\u001b[0m_engine\u001b[0m\u001b[0;34m.\u001b[0m\u001b[0mget_loc\u001b[0m\u001b[0;34m(\u001b[0m\u001b[0mkey\u001b[0m\u001b[0;34m)\u001b[0m\u001b[0;34m\u001b[0m\u001b[0;34m\u001b[0m\u001b[0m\n\u001b[0m\u001b[1;32m   2647\u001b[0m             \u001b[0;32mexcept\u001b[0m \u001b[0mKeyError\u001b[0m\u001b[0;34m:\u001b[0m\u001b[0;34m\u001b[0m\u001b[0;34m\u001b[0m\u001b[0m\n",
            "\u001b[0;32mpandas/_libs/index.pyx\u001b[0m in \u001b[0;36mpandas._libs.index.IndexEngine.get_loc\u001b[0;34m()\u001b[0m\n",
            "\u001b[0;32mpandas/_libs/index.pyx\u001b[0m in \u001b[0;36mpandas._libs.index.IndexEngine.get_loc\u001b[0;34m()\u001b[0m\n",
            "\u001b[0;32mpandas/_libs/hashtable_class_helper.pxi\u001b[0m in \u001b[0;36mpandas._libs.hashtable.PyObjectHashTable.get_item\u001b[0;34m()\u001b[0m\n",
            "\u001b[0;32mpandas/_libs/hashtable_class_helper.pxi\u001b[0m in \u001b[0;36mpandas._libs.hashtable.PyObjectHashTable.get_item\u001b[0;34m()\u001b[0m\n",
            "\u001b[0;31mKeyError\u001b[0m: ('sexo', 'clase')",
            "\nDuring handling of the above exception, another exception occurred:\n",
            "\u001b[0;31mKeyError\u001b[0m                                  Traceback (most recent call last)",
            "\u001b[0;32m<ipython-input-2-23db7e5f65f6>\u001b[0m in \u001b[0;36m<module>\u001b[0;34m()\u001b[0m\n\u001b[0;32m----> 1\u001b[0;31m \u001b[0mdata\u001b[0m\u001b[0;34m[\u001b[0m\u001b[0;34m\"sexo\"\u001b[0m\u001b[0;34m,\u001b[0m\u001b[0;34m\"clase\"\u001b[0m\u001b[0;34m]\u001b[0m\u001b[0;34m.\u001b[0m\u001b[0mvalue_counts\u001b[0m\u001b[0;34m(\u001b[0m\u001b[0;34m)\u001b[0m\u001b[0;34m.\u001b[0m\u001b[0mplot\u001b[0m\u001b[0;34m.\u001b[0m\u001b[0mbar\u001b[0m\u001b[0;34m(\u001b[0m\u001b[0;34m)\u001b[0m\u001b[0;31m# cuenta cuentas mujeres y hombres hay\u001b[0m\u001b[0;34m\u001b[0m\u001b[0;34m\u001b[0m\u001b[0m\n\u001b[0m\u001b[1;32m      2\u001b[0m \u001b[0mpyplot\u001b[0m\u001b[0;34m.\u001b[0m\u001b[0mylabel\u001b[0m\u001b[0;34m(\u001b[0m\u001b[0;34m\"frecuency\"\u001b[0m\u001b[0;34m)\u001b[0m\u001b[0;34m\u001b[0m\u001b[0;34m\u001b[0m\u001b[0m\n\u001b[1;32m      3\u001b[0m \u001b[0mpyplot\u001b[0m\u001b[0;34m.\u001b[0m\u001b[0mgrid\u001b[0m\u001b[0;34m(\u001b[0m\u001b[0;34m)\u001b[0m\u001b[0;34m\u001b[0m\u001b[0;34m\u001b[0m\u001b[0m\n\u001b[1;32m      4\u001b[0m \u001b[0mpyplot\u001b[0m\u001b[0;34m.\u001b[0m\u001b[0mshow\u001b[0m\u001b[0;34m(\u001b[0m\u001b[0;34m)\u001b[0m\u001b[0;34m\u001b[0m\u001b[0;34m\u001b[0m\u001b[0m\n",
            "\u001b[0;32m/usr/local/lib/python3.6/dist-packages/pandas/core/frame.py\u001b[0m in \u001b[0;36m__getitem__\u001b[0;34m(self, key)\u001b[0m\n\u001b[1;32m   2798\u001b[0m             \u001b[0;32mif\u001b[0m \u001b[0mself\u001b[0m\u001b[0;34m.\u001b[0m\u001b[0mcolumns\u001b[0m\u001b[0;34m.\u001b[0m\u001b[0mnlevels\u001b[0m \u001b[0;34m>\u001b[0m \u001b[0;36m1\u001b[0m\u001b[0;34m:\u001b[0m\u001b[0;34m\u001b[0m\u001b[0;34m\u001b[0m\u001b[0m\n\u001b[1;32m   2799\u001b[0m                 \u001b[0;32mreturn\u001b[0m \u001b[0mself\u001b[0m\u001b[0;34m.\u001b[0m\u001b[0m_getitem_multilevel\u001b[0m\u001b[0;34m(\u001b[0m\u001b[0mkey\u001b[0m\u001b[0;34m)\u001b[0m\u001b[0;34m\u001b[0m\u001b[0;34m\u001b[0m\u001b[0m\n\u001b[0;32m-> 2800\u001b[0;31m             \u001b[0mindexer\u001b[0m \u001b[0;34m=\u001b[0m \u001b[0mself\u001b[0m\u001b[0;34m.\u001b[0m\u001b[0mcolumns\u001b[0m\u001b[0;34m.\u001b[0m\u001b[0mget_loc\u001b[0m\u001b[0;34m(\u001b[0m\u001b[0mkey\u001b[0m\u001b[0;34m)\u001b[0m\u001b[0;34m\u001b[0m\u001b[0;34m\u001b[0m\u001b[0m\n\u001b[0m\u001b[1;32m   2801\u001b[0m             \u001b[0;32mif\u001b[0m \u001b[0mis_integer\u001b[0m\u001b[0;34m(\u001b[0m\u001b[0mindexer\u001b[0m\u001b[0;34m)\u001b[0m\u001b[0;34m:\u001b[0m\u001b[0;34m\u001b[0m\u001b[0;34m\u001b[0m\u001b[0m\n\u001b[1;32m   2802\u001b[0m                 \u001b[0mindexer\u001b[0m \u001b[0;34m=\u001b[0m \u001b[0;34m[\u001b[0m\u001b[0mindexer\u001b[0m\u001b[0;34m]\u001b[0m\u001b[0;34m\u001b[0m\u001b[0;34m\u001b[0m\u001b[0m\n",
            "\u001b[0;32m/usr/local/lib/python3.6/dist-packages/pandas/core/indexes/base.py\u001b[0m in \u001b[0;36mget_loc\u001b[0;34m(self, key, method, tolerance)\u001b[0m\n\u001b[1;32m   2646\u001b[0m                 \u001b[0;32mreturn\u001b[0m \u001b[0mself\u001b[0m\u001b[0;34m.\u001b[0m\u001b[0m_engine\u001b[0m\u001b[0;34m.\u001b[0m\u001b[0mget_loc\u001b[0m\u001b[0;34m(\u001b[0m\u001b[0mkey\u001b[0m\u001b[0;34m)\u001b[0m\u001b[0;34m\u001b[0m\u001b[0;34m\u001b[0m\u001b[0m\n\u001b[1;32m   2647\u001b[0m             \u001b[0;32mexcept\u001b[0m \u001b[0mKeyError\u001b[0m\u001b[0;34m:\u001b[0m\u001b[0;34m\u001b[0m\u001b[0;34m\u001b[0m\u001b[0m\n\u001b[0;32m-> 2648\u001b[0;31m                 \u001b[0;32mreturn\u001b[0m \u001b[0mself\u001b[0m\u001b[0;34m.\u001b[0m\u001b[0m_engine\u001b[0m\u001b[0;34m.\u001b[0m\u001b[0mget_loc\u001b[0m\u001b[0;34m(\u001b[0m\u001b[0mself\u001b[0m\u001b[0;34m.\u001b[0m\u001b[0m_maybe_cast_indexer\u001b[0m\u001b[0;34m(\u001b[0m\u001b[0mkey\u001b[0m\u001b[0;34m)\u001b[0m\u001b[0;34m)\u001b[0m\u001b[0;34m\u001b[0m\u001b[0;34m\u001b[0m\u001b[0m\n\u001b[0m\u001b[1;32m   2649\u001b[0m         \u001b[0mindexer\u001b[0m \u001b[0;34m=\u001b[0m \u001b[0mself\u001b[0m\u001b[0;34m.\u001b[0m\u001b[0mget_indexer\u001b[0m\u001b[0;34m(\u001b[0m\u001b[0;34m[\u001b[0m\u001b[0mkey\u001b[0m\u001b[0;34m]\u001b[0m\u001b[0;34m,\u001b[0m \u001b[0mmethod\u001b[0m\u001b[0;34m=\u001b[0m\u001b[0mmethod\u001b[0m\u001b[0;34m,\u001b[0m \u001b[0mtolerance\u001b[0m\u001b[0;34m=\u001b[0m\u001b[0mtolerance\u001b[0m\u001b[0;34m)\u001b[0m\u001b[0;34m\u001b[0m\u001b[0;34m\u001b[0m\u001b[0m\n\u001b[1;32m   2650\u001b[0m         \u001b[0;32mif\u001b[0m \u001b[0mindexer\u001b[0m\u001b[0;34m.\u001b[0m\u001b[0mndim\u001b[0m \u001b[0;34m>\u001b[0m \u001b[0;36m1\u001b[0m \u001b[0;32mor\u001b[0m \u001b[0mindexer\u001b[0m\u001b[0;34m.\u001b[0m\u001b[0msize\u001b[0m \u001b[0;34m>\u001b[0m \u001b[0;36m1\u001b[0m\u001b[0;34m:\u001b[0m\u001b[0;34m\u001b[0m\u001b[0;34m\u001b[0m\u001b[0m\n",
            "\u001b[0;32mpandas/_libs/index.pyx\u001b[0m in \u001b[0;36mpandas._libs.index.IndexEngine.get_loc\u001b[0;34m()\u001b[0m\n",
            "\u001b[0;32mpandas/_libs/index.pyx\u001b[0m in \u001b[0;36mpandas._libs.index.IndexEngine.get_loc\u001b[0;34m()\u001b[0m\n",
            "\u001b[0;32mpandas/_libs/hashtable_class_helper.pxi\u001b[0m in \u001b[0;36mpandas._libs.hashtable.PyObjectHashTable.get_item\u001b[0;34m()\u001b[0m\n",
            "\u001b[0;32mpandas/_libs/hashtable_class_helper.pxi\u001b[0m in \u001b[0;36mpandas._libs.hashtable.PyObjectHashTable.get_item\u001b[0;34m()\u001b[0m\n",
            "\u001b[0;31mKeyError\u001b[0m: ('sexo', 'clase')"
          ]
        }
      ]
    },
    {
      "cell_type": "markdown",
      "metadata": {
        "id": "M0CdKQiWEvEb",
        "colab_type": "text"
      },
      "source": [
        "3. extraer valores medios agrupados por sexo"
      ]
    },
    {
      "cell_type": "code",
      "metadata": {
        "id": "4wOW-z9vEcNa",
        "colab_type": "code",
        "colab": {
          "base_uri": "https://localhost:8080/",
          "height": 142
        },
        "outputId": "3fb61878-b883-4ba0-a896-c24547e22ac1"
      },
      "source": [
        "data.groupby(\"sexo\").mean()#la media de edades de mujeres y hombres\n"
      ],
      "execution_count": null,
      "outputs": [
        {
          "output_type": "execute_result",
          "data": {
            "text/html": [
              "<div>\n",
              "<style scoped>\n",
              "    .dataframe tbody tr th:only-of-type {\n",
              "        vertical-align: middle;\n",
              "    }\n",
              "\n",
              "    .dataframe tbody tr th {\n",
              "        vertical-align: top;\n",
              "    }\n",
              "\n",
              "    .dataframe thead th {\n",
              "        text-align: right;\n",
              "    }\n",
              "</style>\n",
              "<table border=\"1\" class=\"dataframe\">\n",
              "  <thead>\n",
              "    <tr style=\"text-align: right;\">\n",
              "      <th></th>\n",
              "      <th>sobrevivo</th>\n",
              "      <th>clase</th>\n",
              "      <th>edad</th>\n",
              "      <th>tarifa</th>\n",
              "    </tr>\n",
              "    <tr>\n",
              "      <th>sexo</th>\n",
              "      <th></th>\n",
              "      <th></th>\n",
              "      <th></th>\n",
              "      <th></th>\n",
              "    </tr>\n",
              "  </thead>\n",
              "  <tbody>\n",
              "    <tr>\n",
              "      <th>female</th>\n",
              "      <td>0.742038</td>\n",
              "      <td>2.159236</td>\n",
              "      <td>27.915709</td>\n",
              "      <td>44.479818</td>\n",
              "    </tr>\n",
              "    <tr>\n",
              "      <th>male</th>\n",
              "      <td>0.188908</td>\n",
              "      <td>2.389948</td>\n",
              "      <td>30.726645</td>\n",
              "      <td>25.523893</td>\n",
              "    </tr>\n",
              "  </tbody>\n",
              "</table>\n",
              "</div>"
            ],
            "text/plain": [
              "        sobrevivo     clase       edad     tarifa\n",
              "sexo                                             \n",
              "female   0.742038  2.159236  27.915709  44.479818\n",
              "male     0.188908  2.389948  30.726645  25.523893"
            ]
          },
          "metadata": {
            "tags": []
          },
          "execution_count": 45
        }
      ]
    },
    {
      "cell_type": "markdown",
      "metadata": {
        "id": "02m-3X87L3Yt",
        "colab_type": "text"
      },
      "source": [
        "traer dos columnas"
      ]
    },
    {
      "cell_type": "code",
      "metadata": {
        "id": "kNGC2A1hL7ap",
        "colab_type": "code",
        "colab": {
          "base_uri": "https://localhost:8080/",
          "height": 450
        },
        "outputId": "a510f599-7bbf-4ed9-c610-f141e8d5ac19"
      },
      "source": [
        "data[[\"tarifa\",\"sexo\"]]"
      ],
      "execution_count": null,
      "outputs": [
        {
          "output_type": "execute_result",
          "data": {
            "text/html": [
              "<div>\n",
              "<style scoped>\n",
              "    .dataframe tbody tr th:only-of-type {\n",
              "        vertical-align: middle;\n",
              "    }\n",
              "\n",
              "    .dataframe tbody tr th {\n",
              "        vertical-align: top;\n",
              "    }\n",
              "\n",
              "    .dataframe thead th {\n",
              "        text-align: right;\n",
              "    }\n",
              "</style>\n",
              "<table border=\"1\" class=\"dataframe\">\n",
              "  <thead>\n",
              "    <tr style=\"text-align: right;\">\n",
              "      <th></th>\n",
              "      <th>tarifa</th>\n",
              "      <th>sexo</th>\n",
              "    </tr>\n",
              "    <tr>\n",
              "      <th>PassengerId</th>\n",
              "      <th></th>\n",
              "      <th></th>\n",
              "    </tr>\n",
              "  </thead>\n",
              "  <tbody>\n",
              "    <tr>\n",
              "      <th>1</th>\n",
              "      <td>7.2500</td>\n",
              "      <td>male</td>\n",
              "    </tr>\n",
              "    <tr>\n",
              "      <th>2</th>\n",
              "      <td>71.2833</td>\n",
              "      <td>female</td>\n",
              "    </tr>\n",
              "    <tr>\n",
              "      <th>3</th>\n",
              "      <td>7.9250</td>\n",
              "      <td>female</td>\n",
              "    </tr>\n",
              "    <tr>\n",
              "      <th>4</th>\n",
              "      <td>53.1000</td>\n",
              "      <td>female</td>\n",
              "    </tr>\n",
              "    <tr>\n",
              "      <th>5</th>\n",
              "      <td>8.0500</td>\n",
              "      <td>male</td>\n",
              "    </tr>\n",
              "    <tr>\n",
              "      <th>...</th>\n",
              "      <td>...</td>\n",
              "      <td>...</td>\n",
              "    </tr>\n",
              "    <tr>\n",
              "      <th>887</th>\n",
              "      <td>13.0000</td>\n",
              "      <td>male</td>\n",
              "    </tr>\n",
              "    <tr>\n",
              "      <th>888</th>\n",
              "      <td>30.0000</td>\n",
              "      <td>female</td>\n",
              "    </tr>\n",
              "    <tr>\n",
              "      <th>889</th>\n",
              "      <td>23.4500</td>\n",
              "      <td>female</td>\n",
              "    </tr>\n",
              "    <tr>\n",
              "      <th>890</th>\n",
              "      <td>30.0000</td>\n",
              "      <td>male</td>\n",
              "    </tr>\n",
              "    <tr>\n",
              "      <th>891</th>\n",
              "      <td>7.7500</td>\n",
              "      <td>male</td>\n",
              "    </tr>\n",
              "  </tbody>\n",
              "</table>\n",
              "<p>891 rows × 2 columns</p>\n",
              "</div>"
            ],
            "text/plain": [
              "              tarifa    sexo\n",
              "PassengerId                 \n",
              "1             7.2500    male\n",
              "2            71.2833  female\n",
              "3             7.9250  female\n",
              "4            53.1000  female\n",
              "5             8.0500    male\n",
              "...              ...     ...\n",
              "887          13.0000    male\n",
              "888          30.0000  female\n",
              "889          23.4500  female\n",
              "890          30.0000    male\n",
              "891           7.7500    male\n",
              "\n",
              "[891 rows x 2 columns]"
            ]
          },
          "metadata": {
            "tags": []
          },
          "execution_count": 46
        }
      ]
    },
    {
      "cell_type": "markdown",
      "metadata": {
        "id": "Etntijt_MSfQ",
        "colab_type": "text"
      },
      "source": [
        "4.distribucion de las clases?"
      ]
    },
    {
      "cell_type": "code",
      "metadata": {
        "id": "TdCY_CFvMWPI",
        "colab_type": "code",
        "colab": {
          "base_uri": "https://localhost:8080/",
          "height": 262
        },
        "outputId": "fb4b91a2-8ec7-4ace-b0d1-cc0ab635808d"
      },
      "source": [
        "data[\"clase\"].value_counts().sort_index().plot.bar()#sort_index de menor a mayor si lo quiere sortear por valores es sort_values\n",
        "pyplot.ylabel(\"frecuency\")\n",
        "pyplot.grid()\n",
        "pyplot.show()"
      ],
      "execution_count": null,
      "outputs": [
        {
          "output_type": "display_data",
          "data": {
            "image/png": "[encoded data removed]",
            "text/plain": [
              "<Figure size 432x288 with 1 Axes>"
            ]
          },
          "metadata": {
            "tags": [],
            "needs_background": "light"
          }
        }
      ]
    },
    {
      "cell_type": "markdown",
      "metadata": {
        "id": "TPuN77LwOCoQ",
        "colab_type": "text"
      },
      "source": [
        "5. Cuanto fue lo que se pago mas y lo que se pago menos por un ticket"
      ]
    },
    {
      "cell_type": "code",
      "metadata": {
        "id": "yJMEz4ZGOKII",
        "colab_type": "code",
        "colab": {
          "base_uri": "https://localhost:8080/",
          "height": 34
        },
        "outputId": "ce0f2189-22e7-4815-d214-2d9a33c76786"
      },
      "source": [
        "max_fare=data[\"tarifa\"].max()\n",
        "min_fare=data[\"tarifa\"].min()\n",
        "print(min_fare,\"    \",max_fare)"
      ],
      "execution_count": null,
      "outputs": [
        {
          "output_type": "stream",
          "text": [
            "0.0      512.3292\n"
          ],
          "name": "stdout"
        }
      ]
    },
    {
      "cell_type": "markdown",
      "metadata": {
        "id": "clbewp0wPH8e",
        "colab_type": "text"
      },
      "source": [
        "6. quien era la persona con mas edad"
      ]
    },
    {
      "cell_type": "code",
      "metadata": {
        "id": "RP33FqlTPMxq",
        "colab_type": "code",
        "colab": {
          "base_uri": "https://localhost:8080/",
          "height": 136
        },
        "outputId": "d937ea80-9ca7-428b-806a-d35b1ce01792"
      },
      "source": [
        "pasajero_mas_viejo=data[\"edad\"].sort_values(ascending=False).index[0]#nos da la posicion del pasajero mas viejo\n",
        "pasajero_mas_viejo\n",
        "data.loc[pasajero_mas_viejo]#muestra los datos de ese id que 631 en este caso"
      ],
      "execution_count": null,
      "outputs": [
        {
          "output_type": "execute_result",
          "data": {
            "text/plain": [
              "sobrevivo                                       1\n",
              "clase                                           1\n",
              "Nombre       Barkworth, Mr. Algernon Henry Wilson\n",
              "sexo                                         male\n",
              "edad                                           80\n",
              "tarifa                                         30\n",
              "Name: 631, dtype: object"
            ]
          },
          "metadata": {
            "tags": []
          },
          "execution_count": 63
        }
      ]
    },
    {
      "cell_type": "markdown",
      "metadata": {
        "id": "xwSc7z1hQ2WU",
        "colab_type": "text"
      },
      "source": [
        "7. cual fue la persona que mas pago por el ticket"
      ]
    },
    {
      "cell_type": "code",
      "metadata": {
        "id": "8veNk6SCQ_Qk",
        "colab_type": "code",
        "colab": {
          "base_uri": "https://localhost:8080/",
          "height": 136
        },
        "outputId": "cfa58ceb-549f-4655-836b-2e2817f0d224"
      },
      "source": [
        "pasajero_mas_pago=data[\"tarifa\"].sort_values(ascending=False).index[0]#nos da la posicion del pasajero mas viejo\n",
        "pasajero_mas_pago\n",
        "data.loc[pasajero_mas_pago]#muestra los datos de ese id que 631 en este caso"
      ],
      "execution_count": null,
      "outputs": [
        {
          "output_type": "execute_result",
          "data": {
            "text/plain": [
              "sobrevivo                                     1\n",
              "clase                                         1\n",
              "Nombre       Cardeza, Mr. Thomas Drake Martinez\n",
              "sexo                                       male\n",
              "edad                                         36\n",
              "tarifa                                  512.329\n",
              "Name: 680, dtype: object"
            ]
          },
          "metadata": {
            "tags": []
          },
          "execution_count": 64
        }
      ]
    },
    {
      "cell_type": "markdown",
      "metadata": {
        "id": "pFYEENJnUe2p",
        "colab_type": "text"
      },
      "source": [
        "8. como estaba distribuida por sexo y clase"
      ]
    },
    {
      "cell_type": "code",
      "metadata": {
        "id": "w9O2yuShUjWn",
        "colab_type": "code",
        "colab": {
          "base_uri": "https://localhost:8080/",
          "height": 361
        },
        "outputId": "d635412d-5259-4a15-b5a8-0a1c312782af"
      },
      "source": [
        "data[\"ones\"]=1\n",
        "\n",
        "data.groupby([\"clase\",\"sexo\"])[\"ones\"].count().unstack().plot.bar()# lo que se hace con la agregacion de la columna 1 es contar todos esos unos y agruparlos en sexo y clase\n",
        "#unstack es para agrupar\n",
        "a=data.groupby([\"clase\",\"sexo\"])[\"ones\"].count().unstack()#tabla pivote\n",
        "print(a)"
      ],
      "execution_count": null,
      "outputs": [
        {
          "output_type": "stream",
          "text": [
            "sexo   female  male\n",
            "clase              \n",
            "1          94   122\n",
            "2          76   108\n",
            "3         144   347\n"
          ],
          "name": "stdout"
        },
        {
          "output_type": "display_data",
          "data": {
            "image/png": "[encoded data removed]",
            "text/plain": [
              "<Figure size 432x288 with 1 Axes>"
            ]
          },
          "metadata": {
            "tags": [],
            "needs_background": "light"
          }
        }
      ]
    },
    {
      "cell_type": "code",
      "metadata": {
        "id": "8gtvrtIXbOHF",
        "colab_type": "code",
        "colab": {
          "base_uri": "https://localhost:8080/",
          "height": 347
        },
        "outputId": "35993eeb-c22b-4f98-98a3-a1259ac95e6c"
      },
      "source": [
        "data[\"ones\"]=1 # este ejemplo es con las barras invertidas\n",
        "\n",
        "data.groupby([\"sexo\",\"clase\"])[\"ones\"].count().unstack().plot.bar(rot=0,colormap=\"Dark2\")# lo que se hace con la agregacion de la columna 1 es contar todos esos unos y agruparlos en sexo y clase\n",
        "#unstack es para agrupar #rot=0 es para no rotar los textos\n",
        "a=data.groupby([\"sexo\",\"clase\"])[\"ones\"].count().unstack()#tabla pivote\n",
        "print(a)"
      ],
      "execution_count": null,
      "outputs": [
        {
          "output_type": "stream",
          "text": [
            "clase     1    2    3\n",
            "sexo                 \n",
            "female   94   76  144\n",
            "male    122  108  347\n"
          ],
          "name": "stdout"
        },
        {
          "output_type": "display_data",
          "data": {
            "image/png": "[encoded data removed]",
            "text/plain": [
              "<Figure size 432x288 with 1 Axes>"
            ]
          },
          "metadata": {
            "tags": [],
            "needs_background": "light"
          }
        }
      ]
    },
    {
      "cell_type": "markdown",
      "metadata": {
        "id": "SvHZVDrqO2-v",
        "colab_type": "text"
      },
      "source": [
        "9 como estaban distribuidos los que sobrevivieron por clase"
      ]
    },
    {
      "cell_type": "code",
      "metadata": {
        "id": "cXn6uR1GPCy2",
        "colab_type": "code",
        "colab": {
          "base_uri": "https://localhost:8080/",
          "height": 347
        },
        "outputId": "bd5471a9-2162-4e58-9e5d-b7bc4883908b"
      },
      "source": [
        "data[\"ones\"]=1 # este ejemplo es con las barras invertidas\n",
        "\n",
        "data.groupby([\"sobrevivo\",\"clase\"])[\"ones\"].count().unstack().plot.bar(rot=0,colormap=\"Dark2\")# lo que se hace con la agregacion de la columna 1 es contar todos esos unos y agruparlos en sexo y clase\n",
        "#unstack es para agrupar #rot=0 es para no rotar los textos\n",
        "a=data.groupby([\"sobrevivo\",\"clase\"])[\"ones\"].count().unstack()#tabla pivote\n",
        "print(a)"
      ],
      "execution_count": null,
      "outputs": [
        {
          "output_type": "stream",
          "text": [
            "clase        1   2    3\n",
            "sobrevivo              \n",
            "0           80  97  372\n",
            "1          136  87  119\n"
          ],
          "name": "stdout"
        },
        {
          "output_type": "display_data",
          "data": {
            "image/png": "[encoded data removed]",
            "text/plain": [
              "<Figure size 432x288 with 1 Axes>"
            ]
          },
          "metadata": {
            "tags": [],
            "needs_background": "light"
          }
        }
      ]
    },
    {
      "cell_type": "code",
      "metadata": {
        "id": "xlnktSqhO1iR",
        "colab_type": "code",
        "colab": {
          "base_uri": "https://localhost:8080/",
          "height": 364
        },
        "outputId": "d86577fa-e518-4df8-a2f7-b81c01328202"
      },
      "source": [
        "data[\"ones\"]=1 # este ejemplo es con las barras invertidas\n",
        "\n",
        "data.groupby([\"clase\",\"sobrevivo\"])[\"ones\"].count().unstack().plot.bar(rot=0,colormap=\"Dark2\")# lo que se hace con la agregacion de la columna 1 es contar todos esos unos y agruparlos en sexo y clase\n",
        "#unstack es para agrupar #rot=0 es para no rotar los textos\n",
        "a=data.groupby([\"clase\",\"sobrevivo\"])[\"ones\"].count().unstack()#tabla pivote\n",
        "print(a)"
      ],
      "execution_count": null,
      "outputs": [
        {
          "output_type": "stream",
          "text": [
            "sobrevivo    0    1\n",
            "clase              \n",
            "1           80  136\n",
            "2           97   87\n",
            "3          372  119\n"
          ],
          "name": "stdout"
        },
        {
          "output_type": "display_data",
          "data": {
            "image/png": "[encoded data removed]",
            "text/plain": [
              "<Figure size 432x288 with 1 Axes>"
            ]
          },
          "metadata": {
            "tags": [],
            "needs_background": "light"
          }
        }
      ]
    },
    {
      "cell_type": "markdown",
      "metadata": {
        "id": "4dXXKDgaO0QX",
        "colab_type": "text"
      },
      "source": [
        "10. como estaban distribuidos los que sobrevivieron por sexo"
      ]
    },
    {
      "cell_type": "code",
      "metadata": {
        "id": "RmNPquB_Ohf_",
        "colab_type": "code",
        "colab": {
          "base_uri": "https://localhost:8080/",
          "height": 347
        },
        "outputId": "66772a2a-4651-4eb5-e15c-c6ffb985f1d5"
      },
      "source": [
        "data[\"ones\"]=1 # este ejemplo es con las barras invertidas\n",
        "\n",
        "data.groupby([\"sobrevivo\",\"sexo\"])[\"ones\"].count().unstack().plot.bar(rot=0,colormap=\"Dark2\")# lo que se hace con la agregacion de la columna 1 es contar todos esos unos y agruparlos en sexo y clase\n",
        "#unstack es para agrupar #rot=0 es para no rotar los textos\n",
        "a=data.groupby([\"sobrevivo\",\"sexo\"])[\"ones\"].count().unstack()#tabla pivote\n",
        "print(a)"
      ],
      "execution_count": null,
      "outputs": [
        {
          "output_type": "stream",
          "text": [
            "sexo       female  male\n",
            "sobrevivo              \n",
            "0              81   468\n",
            "1             233   109\n"
          ],
          "name": "stdout"
        },
        {
          "output_type": "display_data",
          "data": {
            "image/png": "[encoded data removed]",
            "text/plain": [
              "<Figure size 432x288 with 1 Axes>"
            ]
          },
          "metadata": {
            "tags": [],
            "needs_background": "light"
          }
        }
      ]
    },
    {
      "cell_type": "code",
      "metadata": {
        "id": "3D2nPCKvd60j",
        "colab_type": "code",
        "colab": {
          "base_uri": "https://localhost:8080/",
          "height": 347
        },
        "outputId": "266c62ef-61e6-4578-b616-ec4a1ff87556"
      },
      "source": [
        "data[\"ones\"]=1 # este ejemplo es con las barras invertidas\n",
        "\n",
        "data.groupby([\"sexo\",\"sobrevivo\"])[\"ones\"].count().unstack().plot.bar(rot=0,colormap=\"Dark2\")# lo que se hace con la agregacion de la columna 1 es contar todos esos unos y agruparlos en sexo y clase\n",
        "#unstack es para agrupar #rot=0 es para no rotar los textos\n",
        "a=data.groupby([\"sexo\",\"sobrevivo\"])[\"ones\"].count().unstack()#tabla pivote\n",
        "print(a)"
      ],
      "execution_count": null,
      "outputs": [
        {
          "output_type": "stream",
          "text": [
            "sobrevivo    0    1\n",
            "sexo               \n",
            "female      81  233\n",
            "male       468  109\n"
          ],
          "name": "stdout"
        },
        {
          "output_type": "display_data",
          "data": {
            "image/png": "[encoded data removed]",
            "text/plain": [
              "<Figure size 432x288 with 1 Axes>"
            ]
          },
          "metadata": {
            "tags": [],
            "needs_background": "light"
          }
        }
      ]
    },
    {
      "cell_type": "markdown",
      "metadata": {
        "id": "E_Ef3g0ONmZT",
        "colab_type": "text"
      },
      "source": [
        "11. histograma de tarifas"
      ]
    },
    {
      "cell_type": "code",
      "metadata": {
        "id": "kZ96NXYENq-P",
        "colab_type": "code",
        "colab": {
          "base_uri": "https://localhost:8080/",
          "height": 267
        },
        "outputId": "1660a3fb-ce02-42d5-a995-d52a54005b68"
      },
      "source": [
        "data[\"tarifa\"].plot.hist(bins=50)# el bisn es para poner mas barras y verlo mas distribuido\n",
        "pyplot.show()"
      ],
      "execution_count": null,
      "outputs": [
        {
          "output_type": "display_data",
          "data": {
            "image/png": "[encoded data removed]",
            "text/plain": [
              "<Figure size 432x288 with 1 Axes>"
            ]
          },
          "metadata": {
            "tags": [],
            "needs_background": "light"
          }
        }
      ]
    },
    {
      "cell_type": "code",
      "metadata": {
        "id": "NMp16Z3VfKNE",
        "colab_type": "code",
        "colab": {
          "base_uri": "https://localhost:8080/",
          "height": 265
        },
        "outputId": "17ac1a05-367f-4fe2-e13a-2e5192976e27"
      },
      "source": [
        "data[\"tarifa\"].plot.box()#grafica de bigotes\n",
        "pyplot.show()"
      ],
      "execution_count": null,
      "outputs": [
        {
          "output_type": "display_data",
          "data": {
            "image/png": "[encoded data removed]",
            "text/plain": [
              "<Figure size 432x288 with 1 Axes>"
            ]
          },
          "metadata": {
            "tags": [],
            "needs_background": "light"
          }
        }
      ]
    },
    {
      "cell_type": "markdown",
      "metadata": {
        "id": "eV-KxyFLfZxK",
        "colab_type": "text"
      },
      "source": [
        "12. histograma de edades"
      ]
    },
    {
      "cell_type": "code",
      "metadata": {
        "id": "dm4ID7BNffpg",
        "colab_type": "code",
        "colab": {
          "base_uri": "https://localhost:8080/",
          "height": 265
        },
        "outputId": "8404952e-e67e-48fd-a0bf-56991d14afda"
      },
      "source": [
        "data[\"edad\"].plot.hist(bins=5)# el bisn es para poner mas barras y verlo mas distribuido\n",
        "pyplot.show()"
      ],
      "execution_count": null,
      "outputs": [
        {
          "output_type": "display_data",
          "data": {
            "image/png": "[encoded data removed]",
            "text/plain": [
              "<Figure size 432x288 with 1 Axes>"
            ]
          },
          "metadata": {
            "tags": [],
            "needs_background": "light"
          }
        }
      ]
    },
    {
      "cell_type": "code",
      "metadata": {
        "id": "iOkdroIsfoiy",
        "colab_type": "code",
        "colab": {
          "base_uri": "https://localhost:8080/",
          "height": 265
        },
        "outputId": "082117f0-b45b-42ff-bfe2-8bfb0e7a3fc0"
      },
      "source": [
        "data[\"edad\"].plot.box()#grafica de bigotes muestra los valores medios, los cuartiles, minimo y maximo y datos raros salidos del contexto\n",
        "pyplot.show()"
      ],
      "execution_count": null,
      "outputs": [
        {
          "output_type": "display_data",
          "data": {
            "image/png": "[encoded data removed]",
            "text/plain": [
              "<Figure size 432x288 with 1 Axes>"
            ]
          },
          "metadata": {
            "tags": [],
            "needs_background": "light"
          }
        }
      ]
    },
    {
      "cell_type": "code",
      "metadata": {
        "id": "gYxAWiUH1rW9",
        "colab_type": "code",
        "colab": {}
      },
      "source": [
        "13. cuanntas personas por genero sobrevivieron mayores 50 de  años?"
      ],
      "execution_count": null,
      "outputs": []
    },
    {
      "cell_type": "code",
      "metadata": {
        "id": "qb1p6g6F5b3b",
        "colab_type": "code",
        "colab": {
          "base_uri": "https://localhost:8080/",
          "height": 68
        },
        "outputId": "ece2fb1c-3db3-4ea3-9fe7-99b1eb506dc8"
      },
      "source": [
        "data[(data[\"edad\"]>50) & (data[\"sobrevivo\"]==1)][\"sexo\"].value_counts()"
      ],
      "execution_count": 27,
      "outputs": [
        {
          "output_type": "execute_result",
          "data": {
            "text/plain": [
              "female    16\n",
              "male       6\n",
              "Name: sexo, dtype: int64"
            ]
          },
          "metadata": {
            "tags": []
          },
          "execution_count": 27
        }
      ]
    },
    {
      "cell_type": "code",
      "metadata": {
        "id": "FinQafcY5vSP",
        "colab_type": "code",
        "colab": {
          "base_uri": "https://localhost:8080/",
          "height": 34
        },
        "outputId": "8748679a-8617-4842-ac5c-7130f49a92fb"
      },
      "source": [
        "((data[\"edad\"]>50) & (data[\"sobrevivo\"]==1)).sum()#se llama sumar dos mascaras o dos condiciones "
      ],
      "execution_count": 29,
      "outputs": [
        {
          "output_type": "execute_result",
          "data": {
            "text/plain": [
              "22"
            ]
          },
          "metadata": {
            "tags": []
          },
          "execution_count": 29
        }
      ]
    },
    {
      "cell_type": "markdown",
      "metadata": {
        "id": "o-lM1saM_iOS",
        "colab_type": "text"
      },
      "source": [
        "14. si yo hubiea sido hombre cual es la probabilidad de haber sido hombre\n",
        "\n"
      ]
    },
    {
      "cell_type": "code",
      "metadata": {
        "id": "O05mZtWX_vO8",
        "colab_type": "code",
        "colab": {
          "base_uri": "https://localhost:8080/",
          "height": 34
        },
        "outputId": "fd728ae8-0bba-4f4b-a994-42f234dffadd"
      },
      "source": [
        "contar_hombres=(data[\"sexo\"]==\"male\").sum()\n",
        "(contar_hombres/len(data))*100\n"
      ],
      "execution_count": 36,
      "outputs": [
        {
          "output_type": "execute_result",
          "data": {
            "text/plain": [
              "64.75869809203144"
            ]
          },
          "metadata": {
            "tags": []
          },
          "execution_count": 36
        }
      ]
    },
    {
      "cell_type": "markdown",
      "metadata": {
        "id": "qdiB3ipOAQOT",
        "colab_type": "text"
      },
      "source": [
        "si yo hubiera sido un hombre en el titanic, cual era la probabilidad de sobrevivir "
      ]
    },
    {
      "cell_type": "code",
      "metadata": {
        "id": "8We_wdEZAb43",
        "colab_type": "code",
        "colab": {
          "base_uri": "https://localhost:8080/",
          "height": 34
        },
        "outputId": "74bd0668-c51a-4f07-9aa2-cb17c33d1c16"
      },
      "source": [
        "subdata=data[data[\"sexo\"]==\"male\"]\n",
        "hombres_sobreviven=(subdata[\"sobrevivo\"]==1).sum()\n",
        "hombres_sobreviven/len(subdata)*100"
      ],
      "execution_count": 130,
      "outputs": [
        {
          "output_type": "execute_result",
          "data": {
            "text/plain": [
              "18.890814558058924"
            ]
          },
          "metadata": {
            "tags": []
          },
          "execution_count": 130
        }
      ]
    },
    {
      "cell_type": "markdown",
      "metadata": {
        "id": "iTfb1XPu1qCu",
        "colab_type": "text"
      },
      "source": [
        ""
      ]
    },
    {
      "cell_type": "code",
      "metadata": {
        "id": "Mb9muKAyNvX0",
        "colab_type": "code",
        "colab": {
          "base_uri": "https://localhost:8080/",
          "height": 296
        },
        "outputId": "28d6d488-204e-4160-c269-45ca0e8a2c4b"
      },
      "source": [
        "data\n",
        "data[\"sobrevivo\"]# saca la matrix de todos los que estan en la columna sobrevivo\n",
        "data[\"sobrevivo\"].count()# cuanta todos los datos de la columna sobrevivo\n",
        "(data[\"sobrevivo\"]==1).sum()#suma los datos de los sobrevivientes\n",
        "(data[\"sobrevivo\"]==0).sum()#cuanta los datos de los que murieron\n",
        "data[\"edad\"].mean()#nos devuelve la mediana de la edad\n",
        "data.groupby(\"sexo\").mean()#nos devuelve los sexos con diferentes caracteristicas\n",
        "data[[\"tarifa\",\"sexo\"]]#nos devuelve dos columnas\n",
        "data[\"clase\"].value_counts().sort_index().plot.bar()#cuantas las clases sort es para ir de menor a mayor en la clase\n",
        "max_fare=data[\"tarifa\"].max()#saca el mayor valor pagado por la tarifa\n",
        "print(max_fare)\n",
        "pasajero_mas_viejo=data[\"edad\"].sort_values(ascending=False).index[0]#nos da la posicion del pasajero mas viejo\n",
        "print(pasajero_mas_viejo)"
      ],
      "execution_count": 193,
      "outputs": [
        {
          "output_type": "stream",
          "text": [
            "512.3292\n",
            "631\n"
          ],
          "name": "stdout"
        },
        {
          "output_type": "display_data",
          "data": {
            "image/png": "[encoded data removed]",
            "text/plain": [
              "<Figure size 432x288 with 1 Axes>"
            ]
          },
          "metadata": {
            "tags": [],
            "needs_background": "light"
          }
        }
      ]
    }
  ]
}