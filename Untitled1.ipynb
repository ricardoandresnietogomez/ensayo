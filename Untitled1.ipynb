{
  "nbformat": 4,
  "nbformat_minor": 0,
  "metadata": {
    "colab": {
      "name": "Untitled1.ipynb",
      "provenance": [],
      "authorship_tag": "ABX9TyPhSTb1DeKqRGBbISuQ0AaV",
      "include_colab_link": true
    },
    "kernelspec": {
      "name": "python3",
      "display_name": "Python 3"
    }
  },
  "cells": [
    {
      "cell_type": "markdown",
      "metadata": {
        "id": "view-in-github",
        "colab_type": "text"
      },
      "source": [
        "<a href=\"https://colab.research.google.com/github/ricardoandresnietogomez/ensayo/blob/circleci-project-setup/Untitled1.ipynb\" target=\"_parent\"><img src=\"https://colab.research.google.com/assets/colab-badge.svg\" alt=\"Open In Colab\"/></a>"
      ]
    },
    {
      "cell_type": "markdown",
      "metadata": {
        "id": "WXhpjsD4a-lF",
        "colab_type": "text"
      },
      "source": [
        "cargar tabla covid"
      ]
    },
    {
      "cell_type": "code",
      "metadata": {
        "id": "bZCmAGvDa7OT",
        "colab_type": "code",
        "colab": {
          "base_uri": "https://localhost:8080/",
          "height": 34
        },
        "outputId": "6552d444-c5fe-41f2-9053-88aafc0892f6"
      },
      "source": [
        "import pandas\n",
        "import matplotlib\n",
        "from matplotlib import pyplot\n",
        "\n",
        "data=pandas.read_excel(\"/content/colombia.xlsx\")\n",
        "#data.tail() para ver los utimos valores de la tabla\n",
        "\n",
        "data.head()\n",
        "#data.shape para saber cuantas filas y columnas tiene la data\n",
        "#some= {\"Survived\":1,\"Pclass\":1,\"Name\":\"Ricardo Andres Nieto\"}# si quiero ingresar datos a la tabla\n",
        "#data=data.append(some, ignore_index=True)para ingresar los datos de la linea anterios\n",
        "#data.tail() para ver los utimos valores de la tabla\n",
        "#\n",
        "\n",
        "data[[\"Fecha de diagnóstico\",\"Departamento o Distrito\",\"Edad\",\"Sexo\"]]\n",
        "\n",
        "#data[(data[\"Edad\"]>40) & (data[\"Edad\"]<50)][\"Sexo\"].value_counts()\n",
        "(data[\"Atención**\"]==\"Recuperado\").sum()\n",
        "(data[\"Sexo\"]==\"M\").sum()\n",
        "(data[\"Sexo\"]==\"M\").sum()\n"
      ],
      "execution_count": 132,
      "outputs": [
        {
          "output_type": "execute_result",
          "data": {
            "text/plain": [
              "1040"
            ]
          },
          "metadata": {
            "tags": []
          },
          "execution_count": 132
        }
      ]
    }
  ]
}