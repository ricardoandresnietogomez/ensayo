{
  "nbformat": 4,
  "nbformat_minor": 0,
  "metadata": {
    "colab": {
      "name": "Untitled1.ipynb",
      "provenance": [],
      "authorship_tag": "ABX9TyPvuU7cOXX2S4dsCFoPeYcO",
      "include_colab_link": true
    },
    "kernelspec": {
      "name": "python3",
      "display_name": "Python 3"
    }
  },
  "cells": [
    {
      "cell_type": "markdown",
      "metadata": {
        "id": "view-in-github",
        "colab_type": "text"
      },
      "source": [
        "<a href=\"https://colab.research.google.com/github/ricardoandresnietogomez/ensayo/blob/circleci-project-setup/Untitled1.ipynb\" target=\"_parent\"><img src=\"https://colab.research.google.com/assets/colab-badge.svg\" alt=\"Open In Colab\"/></a>"
      ]
    },
    {
      "cell_type": "markdown",
      "metadata": {
        "id": "WXhpjsD4a-lF",
        "colab_type": "text"
      },
      "source": [
        "cargar tabla covid"
      ]
    },
    {
      "cell_type": "code",
      "metadata": {
        "id": "bZCmAGvDa7OT",
        "colab_type": "code",
        "colab": {
          "base_uri": "https://localhost:8080/",
          "height": 102
        },
        "outputId": "8553b9df-6fd4-46ef-ecc5-a43868168cec"
      },
      "source": [
        "import pandas\n",
        "import matplotlib\n",
        "from matplotlib import pyplot\n",
        "\n",
        "data=pandas.read_excel(\"/content/colombia.xlsx\")\n",
        "#data.tail() para ver los utimos valores de la tabla\n",
        "\n",
        "data.head()\n",
        "#data.shape para saber cuantas filas y columnas tiene la data\n",
        "#some= {\"Survived\":1,\"Pclass\":1,\"Name\":\"Ricardo Andres Nieto\"}# si quiero ingresar datos a la tabla\n",
        "#data=data.append(some, ignore_index=True)para ingresar los datos de la linea anterios\n",
        "#data.tail() para ver los utimos valores de la tabla\n",
        "#\n",
        "\n",
        "data[[\"Fecha de diagnóstico\",\"Departamento o Distrito\",\"Edad\",\"Sexo\"]]\n",
        "\n",
        "#data[(data[\"Edad\"]>40) & (data[\"Edad\"]<50)][\"Sexo\"].value_counts()\n",
        "a=(data[\"Atención**\"]==\"Recuperado\").sum()\n",
        "b=(data[\"Sexo\"]==\"M\").sum()\n",
        "c=(data[\"Sexo\"]==\"F\").sum()\n",
        "\n",
        "d=data[(data[\"Sexo\"]==\"M\") & (data[\"Edad\"]==50)][\"Sexo\"].value_counts()\n",
        "\n",
        "\n",
        "print(a)\n",
        "print(b)\n",
        "print(c)\n",
        "print(d)\n"
      ],
      "execution_count": 9,
      "outputs": [
        {
          "output_type": "stream",
          "text": [
            "123\n",
            "1040\n",
            "1014\n",
            "M    25\n",
            "Name: Sexo, dtype: int64\n"
          ],
          "name": "stdout"
        }
      ]
    }
  ]
}