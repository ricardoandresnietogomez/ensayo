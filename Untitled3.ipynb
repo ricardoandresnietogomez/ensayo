{
  "nbformat": 4,
  "nbformat_minor": 0,
  "metadata": {
    "colab": {
      "name": "Untitled3.ipynb",
      "provenance": [],
      "authorship_tag": "ABX9TyP9HAen/npmMHJY1JcKaprU",
      "include_colab_link": true
    },
    "kernelspec": {
      "name": "python3",
      "display_name": "Python 3"
    }
  },
  "cells": [
    {
      "cell_type": "markdown",
      "metadata": {
        "id": "view-in-github",
        "colab_type": "text"
      },
      "source": [
        "<a href=\"https://colab.research.google.com/github/ricardoandresnietogomez/ensayo/blob/circleci-project-setup/Untitled3.ipynb\" target=\"_parent\"><img src=\"https://colab.research.google.com/assets/colab-badge.svg\" alt=\"Open In Colab\"/></a>"
      ]
    },
    {
      "cell_type": "code",
      "metadata": {
        "id": "9Dp07dCyyMJx",
        "colab_type": "code",
        "colab": {}
      },
      "source": [
        ""
      ],
      "execution_count": null,
      "outputs": []
    },
    {
      "cell_type": "markdown",
      "metadata": {
        "id": "BGZZKrC58kEX",
        "colab_type": "text"
      },
      "source": [
        "contralar errores"
      ]
    },
    {
      "cell_type": "code",
      "metadata": {
        "id": "8Vl3sVGM1Ms6",
        "colab_type": "code",
        "colab": {}
      },
      "source": [
        "try:\n",
        " variable=int(input(\"introduce el valor:\"   ))\n",
        "except ValueError: \n",
        " print(\"el valor debe ser entero:\", ValueError  )\n",
        "print(variable)\n",
        "\n"
      ],
      "execution_count": null,
      "outputs": []
    }
  ]
}